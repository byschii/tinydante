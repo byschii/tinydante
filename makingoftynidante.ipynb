{
 "cells": [
  {
   "attachments": {},
   "cell_type": "markdown",
   "metadata": {},
   "source": [
    "# MAKING OF TINY DANTE\n",
    "tipo tiny shakespeare: https://www.tensorflow.org/datasets/catalog/tiny_shakespeare"
   ]
  },
  {
   "cell_type": "code",
   "execution_count": 79,
   "metadata": {},
   "outputs": [
    {
     "name": "stdout",
     "output_type": "stream",
     "text": [
      "Defaulting to user installation because normal site-packages is not writeable\n",
      "Requirement already satisfied: requests in /usr/lib/python3/dist-packages (2.25.1)\n",
      "Requirement already satisfied: bs4 in /home/byschii/.local/lib/python3.10/site-packages (0.0.1)\n",
      "Requirement already satisfied: beautifulsoup4 in /home/byschii/.local/lib/python3.10/site-packages (from bs4) (4.11.1)\n",
      "Requirement already satisfied: soupsieve>1.2 in /home/byschii/.local/lib/python3.10/site-packages (from beautifulsoup4->bs4) (2.3.2.post1)\n"
     ]
    }
   ],
   "source": [
    "!pip install requests bs4"
   ]
  },
  {
   "attachments": {},
   "cell_type": "markdown",
   "metadata": {},
   "source": [
    "## struttura della divina commedia:\n",
    "inferno - 1 > 34\n",
    "\n",
    "purgatorio - 1 > 33\n",
    "\n",
    "paradiso - 1 > 33"
   ]
  },
  {
   "cell_type": "code",
   "execution_count": 80,
   "metadata": {},
   "outputs": [],
   "source": [
    "link = \"https://it.wikisource.org/wiki/Divina_Commedia\"\n",
    "link_inferno = link + \"/Inferno\"\n",
    "link_purgatorio = link + \"/Purgatorio\"\n",
    "link_paradiso = link + \"/Paradiso\""
   ]
  },
  {
   "cell_type": "code",
   "execution_count": 81,
   "metadata": {},
   "outputs": [],
   "source": [
    "def arab_to_roman_number(n):\n",
    "    \"\"\"\n",
    "    converts arabic number to roman number\n",
    "    eg: 1 -> I\n",
    "        5 -> V\n",
    "        10 -> X\n",
    "        23 -> XXIII\n",
    "        50 -> L\n",
    "    \"\"\"\n",
    "    roman = ''\n",
    "    for arab, roman_number in ((1000, 'M'), (900, 'CM'), (500, 'D'), (400, 'CD'),\n",
    "                               (100, 'C'), (90, 'XC'), (50, 'L'), (40, 'XL'),\n",
    "                               (10, 'X'), (9, 'IX'), (5, 'V'), (4, 'IV'), (1, 'I')):\n",
    "        while n >= arab:\n",
    "            roman += roman_number\n",
    "            n -= arab\n",
    "    return roman\n",
    "    "
   ]
  },
  {
   "cell_type": "code",
   "execution_count": 82,
   "metadata": {},
   "outputs": [],
   "source": [
    "# test arab_to_roman_number\n",
    "assert arab_to_roman_number(1) == 'I'\n",
    "assert arab_to_roman_number(5) == 'V'\n",
    "assert arab_to_roman_number(10) == 'X'\n",
    "assert arab_to_roman_number(23) == 'XXIII'\n",
    "assert arab_to_roman_number(33) == 'XXXIII'\n",
    "assert arab_to_roman_number(34) == 'XXXIV'\n",
    "assert arab_to_roman_number(50) == 'L'\n"
   ]
  },
  {
   "cell_type": "code",
   "execution_count": 83,
   "metadata": {},
   "outputs": [],
   "source": [
    "import requests\n",
    "from bs4 import BeautifulSoup\n",
    "\n",
    "def get_chapter_links(link, n):\n",
    "    return link + \"/\" + \"Canto_\" + arab_to_roman_number(n)\n",
    "\n",
    "\n",
    "def link_to_soup(link):\n",
    "    r = requests.get(link)\n",
    "    if r.status_code != 200:\n",
    "        print(\"Error: status code\", r.status_code)\n",
    "        raise Exception(\"Error: status code\", r.status_code)\n",
    "    return BeautifulSoup(r.text, 'html.parser')\n",
    "\n",
    "def soup_to_text(soup):\n",
    "    # get main part\n",
    "    poem = soup.find(\"div\", {\"class\":\"poem\"})\n",
    "    # removes every span.numeroriga\n",
    "    for span in poem.find_all(\"span\", {\"class\":\"numeroriga\"}):\n",
    "        span.decompose()\n",
    "    \n",
    "    return poem.text\n",
    "\n",
    "def semplificator(text, also_xa0):\n",
    "    semplifications = {\n",
    "        'ä': 'a',\n",
    "        'ó': 'o',\n",
    "        'à': 'a',\n",
    "        'Ë': 'E',\n",
    "        'ï': 'i',\n",
    "        'Ï': 'I',\n",
    "        'ö': 'o',\n",
    "        'ë': 'e',\n",
    "        '‘': \"'\",\n",
    "        '’': \"'\",\n",
    "    }\n",
    "    if also_xa0:\n",
    "        semplifications['\\xa0'] = ' '\n",
    "    for k, v in semplifications.items():\n",
    "        text = text.replace(k, v)\n",
    "    return text\n",
    "\n",
    "def link_to_text(link):\n",
    "    return semplificator(soup_to_text(link_to_soup(link)), True)"
   ]
  },
  {
   "cell_type": "code",
   "execution_count": 84,
   "metadata": {},
   "outputs": [],
   "source": [
    "all_inferno = { # key: future_filename, value: link\n",
    "    f\"dc_inferno_{i}\" : get_chapter_links(link_inferno, i) for i in range(1, 35)\n",
    "}\n",
    "all_purgatorio = { # key: future_filename, value: link\n",
    "    f\"dc_purgatorio_{i}\" : get_chapter_links(link_purgatorio, i) for i in range(1, 34)\n",
    "}\n",
    "all_paradiso = { # key: future_filename, value: link\n",
    "    f\"dc_paradiso_{i}\" : get_chapter_links(link_paradiso, i) for i in range(1, 34)\n",
    "}\n",
    "all_divina_commedia = {**all_inferno, **all_purgatorio, **all_paradiso}\n"
   ]
  },
  {
   "cell_type": "code",
   "execution_count": 85,
   "metadata": {},
   "outputs": [],
   "source": [
    "folder_name = \"divina_commedia_parts\"\n",
    "!mkdir $folder_name\n",
    "\n",
    "for filename, link in all_divina_commedia.items():\n",
    "    with open(folder_name + \"/\" + filename+\".txt\", \"w\") as f:\n",
    "        f.write(link_to_text(link))\n",
    "\n",
    "# also store everything in one file\n",
    "# by reading already stored files\n",
    "with open(\"dc_all.txt\", \"w\") as f:\n",
    "    for filename, link in all_divina_commedia.items():\n",
    "        with open(folder_name + \"/\" + filename+\".txt\", \"r\") as f2:\n",
    "            f.write(f2.read())"
   ]
  },
  {
   "cell_type": "code",
   "execution_count": null,
   "metadata": {},
   "outputs": [],
   "source": [
    "\n"
   ]
  }
 ],
 "metadata": {
  "kernelspec": {
   "display_name": "Python 3",
   "language": "python",
   "name": "python3"
  },
  "language_info": {
   "codemirror_mode": {
    "name": "ipython",
    "version": 3
   },
   "file_extension": ".py",
   "mimetype": "text/x-python",
   "name": "python",
   "nbconvert_exporter": "python",
   "pygments_lexer": "ipython3",
   "version": "3.10.6 (main, Nov 14 2022, 16:10:14) [GCC 11.3.0]"
  },
  "orig_nbformat": 4,
  "vscode": {
   "interpreter": {
    "hash": "916dbcbb3f70747c44a77c7bcd40155683ae19c65e1c03b4aa3499c5328201f1"
   }
  }
 },
 "nbformat": 4,
 "nbformat_minor": 2
}
